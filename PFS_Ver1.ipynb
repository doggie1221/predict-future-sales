{
 "cells": [
  {
   "cell_type": "code",
   "execution_count": 1,
   "metadata": {},
   "outputs": [
    {
     "data": {
      "text/plain": [
       "date              0\n",
       "date_block_num    0\n",
       "shop_id           0\n",
       "item_id           0\n",
       "item_price        0\n",
       "item_cnt_day      0\n",
       "dtype: int64"
      ]
     },
     "execution_count": 1,
     "metadata": {},
     "output_type": "execute_result"
    }
   ],
   "source": [
    "import pandas as pd\n",
    "import numpy as np\n",
    "import matplotlib.pyplot as plt\n",
    "import matplotlib.ticker as ticker\n",
    "import seaborn as sns\n",
    "\n",
    "from sklearn.model_selection import train_test_split\n",
    "from sklearn.ensemble import RandomForestRegressor\n",
    "from sklearn import metrics\n",
    "from sklearn.metrics import mean_squared_error\n",
    "\n",
    "item_data = pd.read_csv(r\"C:\\Users\\sung1\\OneDrive\\桌面\\sales\\items.csv\")\n",
    "item_cat_data = pd.read_csv(r\"C:\\Users\\sung1\\OneDrive\\桌面\\sales\\item_categories.csv\")\n",
    "train_data = pd.read_csv(r\"C:\\Users\\sung1\\OneDrive\\桌面\\sales\\sales_train.csv\")\n",
    "test_data = test_data = pd.read_csv(r\"C:\\Users\\sung1\\OneDrive\\桌面\\sales\\test.csv\")\n",
    "train_data.isnull().sum()"
   ]
  },
  {
   "cell_type": "code",
   "execution_count": 2,
   "metadata": {},
   "outputs": [
    {
     "data": {
      "text/plain": [
       "<AxesSubplot:xlabel='item_cnt_day'>"
      ]
     },
     "execution_count": 2,
     "metadata": {},
     "output_type": "execute_result"
    },
    {
     "data": {
      "image/png": "[encoded data removed]",
      "text/plain": [
       "<Figure size 432x288 with 1 Axes>"
      ]
     },
     "metadata": {
      "needs_background": "light"
     },
     "output_type": "display_data"
    }
   ],
   "source": [
    "sns.boxplot(train_data['item_cnt_day'])"
   ]
  },
  {
   "cell_type": "code",
   "execution_count": 3,
   "metadata": {},
   "outputs": [],
   "source": [
    "train_data['year'] = train_data['date'].apply(lambda x: x.split('.')[2]).astype('int')\n",
    "train_data['month'] = train_data['date'].apply(lambda x: x.split('.')[1]).astype('int')\n",
    "train_data['day'] = train_data['date'].apply(lambda x: x.split('.')[0]).astype('int')\n",
    "\n",
    "# train 整理\n",
    "train_data['YMD']= train_data['year'].astype('str') +train_data['month'].astype('str') +train_data['day'].astype('str')\n",
    "train_data['YM']= train_data['year'].astype('str') +train_data['month'].astype('str')"
   ]
  },
  {
   "cell_type": "code",
   "execution_count": 4,
   "metadata": {},
   "outputs": [
    {
     "data": {
      "image/png": "[encoded data removed]",
      "text/plain": [
       "<Figure size 1080x432 with 1 Axes>"
      ]
     },
     "metadata": {
      "needs_background": "light"
     },
     "output_type": "display_data"
    }
   ],
   "source": [
    "def plot_trend(data, date, count, item_id):\n",
    "    plt.figure(figsize= (15, 6))\n",
    "    sns.barplot(x=data[date], y=data[count][data['item_id']==item_id],ci=0)\n",
    "    plt.xticks(rotation=45)\n",
    "plot_trend(train_data, 'YM', 'item_cnt_day', 20949)"
   ]
  },
  {
   "cell_type": "code",
   "execution_count": 20,
   "metadata": {},
   "outputs": [],
   "source": [
    "# RF 預測價格\n",
    "def RF(train_data, y, n_estimator, depth, leaf):\n",
    "    x_train, x_test, y_train, y_test = train_test_split(train_data.drop(y, axis=1), train_data[y], random_state=0, test_size=0.2)\n",
    "    rf = RandomForestRegressor(n_estimators=n_estimator, max_depth= depth, min_samples_leaf=leaf)\n",
    "    rf.fit(x_train, y_train)\n",
    "    y_pred = rf.predict(x_test)\n",
    "    return(rf, y_pred, y_test)\n",
    "\n",
    "train_rf_price = train_data.drop(['date', 'item_cnt_day', 'YM', 'YMD', 'year','month','day'], axis =1)\n",
    "train_rf_price= pd.merge(train_rf_price, item_data.loc[:,['item_id', 'item_category_id']] ,how='left', on='item_id') "
   ]
  },
  {
   "cell_type": "code",
   "execution_count": 21,
   "metadata": {},
   "outputs": [
    {
     "data": {
      "text/html": [
       "<div>\n",
       "<style scoped>\n",
       "    .dataframe tbody tr th:only-of-type {\n",
       "        vertical-align: middle;\n",
       "    }\n",
       "\n",
       "    .dataframe tbody tr th {\n",
       "        vertical-align: top;\n",
       "    }\n",
       "\n",
       "    .dataframe thead th {\n",
       "        text-align: right;\n",
       "    }\n",
       "</style>\n",
       "<table border=\"1\" class=\"dataframe\">\n",
       "  <thead>\n",
       "    <tr style=\"text-align: right;\">\n",
       "      <th></th>\n",
       "      <th>date_block_num</th>\n",
       "      <th>shop_id</th>\n",
       "      <th>item_id</th>\n",
       "      <th>item_price</th>\n",
       "      <th>item_category_id</th>\n",
       "    </tr>\n",
       "  </thead>\n",
       "  <tbody>\n",
       "    <tr>\n",
       "      <th>0</th>\n",
       "      <td>0</td>\n",
       "      <td>59</td>\n",
       "      <td>22154</td>\n",
       "      <td>999.00</td>\n",
       "      <td>37</td>\n",
       "    </tr>\n",
       "    <tr>\n",
       "      <th>1</th>\n",
       "      <td>0</td>\n",
       "      <td>25</td>\n",
       "      <td>2552</td>\n",
       "      <td>899.00</td>\n",
       "      <td>58</td>\n",
       "    </tr>\n",
       "    <tr>\n",
       "      <th>2</th>\n",
       "      <td>0</td>\n",
       "      <td>25</td>\n",
       "      <td>2552</td>\n",
       "      <td>899.00</td>\n",
       "      <td>58</td>\n",
       "    </tr>\n",
       "    <tr>\n",
       "      <th>3</th>\n",
       "      <td>0</td>\n",
       "      <td>25</td>\n",
       "      <td>2554</td>\n",
       "      <td>1709.05</td>\n",
       "      <td>58</td>\n",
       "    </tr>\n",
       "    <tr>\n",
       "      <th>4</th>\n",
       "      <td>0</td>\n",
       "      <td>25</td>\n",
       "      <td>2555</td>\n",
       "      <td>1099.00</td>\n",
       "      <td>56</td>\n",
       "    </tr>\n",
       "    <tr>\n",
       "      <th>...</th>\n",
       "      <td>...</td>\n",
       "      <td>...</td>\n",
       "      <td>...</td>\n",
       "      <td>...</td>\n",
       "      <td>...</td>\n",
       "    </tr>\n",
       "    <tr>\n",
       "      <th>2935844</th>\n",
       "      <td>33</td>\n",
       "      <td>25</td>\n",
       "      <td>7409</td>\n",
       "      <td>299.00</td>\n",
       "      <td>55</td>\n",
       "    </tr>\n",
       "    <tr>\n",
       "      <th>2935845</th>\n",
       "      <td>33</td>\n",
       "      <td>25</td>\n",
       "      <td>7460</td>\n",
       "      <td>299.00</td>\n",
       "      <td>55</td>\n",
       "    </tr>\n",
       "    <tr>\n",
       "      <th>2935846</th>\n",
       "      <td>33</td>\n",
       "      <td>25</td>\n",
       "      <td>7459</td>\n",
       "      <td>349.00</td>\n",
       "      <td>55</td>\n",
       "    </tr>\n",
       "    <tr>\n",
       "      <th>2935847</th>\n",
       "      <td>33</td>\n",
       "      <td>25</td>\n",
       "      <td>7440</td>\n",
       "      <td>299.00</td>\n",
       "      <td>57</td>\n",
       "    </tr>\n",
       "    <tr>\n",
       "      <th>2935848</th>\n",
       "      <td>33</td>\n",
       "      <td>25</td>\n",
       "      <td>7460</td>\n",
       "      <td>299.00</td>\n",
       "      <td>55</td>\n",
       "    </tr>\n",
       "  </tbody>\n",
       "</table>\n",
       "<p>2935849 rows × 5 columns</p>\n",
       "</div>"
      ],
      "text/plain": [
       "         date_block_num  shop_id  item_id  item_price  item_category_id\n",
       "0                     0       59    22154      999.00                37\n",
       "1                     0       25     2552      899.00                58\n",
       "2                     0       25     2552      899.00                58\n",
       "3                     0       25     2554     1709.05                58\n",
       "4                     0       25     2555     1099.00                56\n",
       "...                 ...      ...      ...         ...               ...\n",
       "2935844              33       25     7409      299.00                55\n",
       "2935845              33       25     7460      299.00                55\n",
       "2935846              33       25     7459      349.00                55\n",
       "2935847              33       25     7440      299.00                57\n",
       "2935848              33       25     7460      299.00                55\n",
       "\n",
       "[2935849 rows x 5 columns]"
      ]
     },
     "execution_count": 21,
     "metadata": {},
     "output_type": "execute_result"
    }
   ],
   "source": [
    "train_rf_price"
   ]
  },
  {
   "cell_type": "code",
   "execution_count": 22,
   "metadata": {},
   "outputs": [
    {
     "name": "stdout",
     "output_type": "stream",
     "text": [
      "PRICE MSE: 409292.0550907827\n"
     ]
    }
   ],
   "source": [
    "rf_model_price, y_price_pred, y_price_test = RF(train_rf_price, 'item_price', 100, 6, 2)\n",
    "print(\"PRICE MSE:\", mean_squared_error(y_price_pred, y_price_test))"
   ]
  },
  {
   "cell_type": "code",
   "execution_count": 24,
   "metadata": {},
   "outputs": [],
   "source": [
    "# test data 整理\n",
    "test_data.insert(1, 'date_block_num', 34)\n",
    "test_data= pd.merge(test_data, item_data.loc[:,['item_id', 'item_category_id']] ,how='left', on='item_id') "
   ]
  },
  {
   "cell_type": "code",
   "execution_count": 26,
   "metadata": {},
   "outputs": [],
   "source": [
    "test_pred_price = rf_model_price.predict(test_data.drop('ID', axis=1).values)\n",
    "test_data['item_price']= test_pred_price"
   ]
  },
  {
   "cell_type": "code",
   "execution_count": 9,
   "metadata": {},
   "outputs": [],
   "source": [
    "from sklearn.metrics import silhouette_score\n",
    "from sklearn.cluster import KMeans\n",
    "\n",
    "train_ks_data= train_data.drop(['date', 'YM', 'YMD', 'day'], axis =1)\n",
    "train_ks_data= pd.merge(train_ks_data, item_data.loc[:,['item_id', 'item_category_id']] ,how='left', on='item_id') "
   ]
  },
  {
   "cell_type": "code",
   "execution_count": 10,
   "metadata": {},
   "outputs": [],
   "source": [
    "distortions=[] \n",
    "scores = []\n",
    "k_range = range(2,10)\n",
    "kx = train_ks_data.astype('float').values\n",
    "\n",
    "# 記錄每種 K 值建出的 KMeans 模型的成效\n",
    "for i in k_range:\n",
    "    kmeans = KMeans(n_clusters=i).fit(kx)\n",
    "    distortions.append(kmeans.inertia_) # 誤差平方和 (SSE)\n",
    "    #scores.append(silhouette_score(kx, kmeans.predict(kx))) # 側影係數"
   ]
  },
  {
   "cell_type": "code",
   "execution_count": 15,
   "metadata": {},
   "outputs": [],
   "source": [
    "kmeans = KMeans(n_clusters=5).fit(kx)\n",
    "dy = kmeans.predict(kx)\n",
    "train_ks_data['cluster']=dy"
   ]
  },
  {
   "cell_type": "code",
   "execution_count": 16,
   "metadata": {},
   "outputs": [
    {
     "data": {
      "text/plain": [
       "<matplotlib.collections.PathCollection at 0x2188076a2b0>"
      ]
     },
     "execution_count": 16,
     "metadata": {},
     "output_type": "execute_result"
    },
    {
     "data": {
      "image/png": "[encoded data removed]",
      "text/plain": [
       "<Figure size 432x288 with 1 Axes>"
      ]
     },
     "metadata": {
      "needs_background": "light"
     },
     "output_type": "display_data"
    }
   ],
   "source": [
    "# 分群圖\n",
    "plt.scatter(train_ks_data['item_id'], train_ks_data['item_price'], c= train_ks_data['cluster'])"
   ]
  },
  {
   "cell_type": "code",
   "execution_count": 28,
   "metadata": {},
   "outputs": [],
   "source": [
    "# month item cnt\n",
    "train_month_data = train_ks_data.groupby(['date_block_num', 'shop_id', 'item_id',\n",
    "                                           'item_category_id']).agg({'item_price':'mean', 'item_cnt_day':'sum'}).reset_index()\n",
    "\n",
    "# two clusters by price(9200)\n",
    "train_cnt_low = train_month_data[train_month_data['item_price']<=9200]\n",
    "rf_model_cnt_low, y_cnt_low_pred, y_cnt_low_test= RF(train_cnt_low, 'item_cnt_day', 100, 6, 2) \n",
    "mean_squared_error(y_cnt_low_pred, y_cnt_low_test)\n",
    "\n",
    "train_cnt_high = train_month_data[train_month_data['item_price']>9200]\n",
    "rf_model_cnt_high, y_cnt_high_pred, y_cnt_high_test= RF(train_cnt_high, 'item_cnt_day', 100, 6, 2) \n",
    "mean_squared_error(y_cnt_high_pred, y_cnt_high_test)\n",
    "\n",
    "# test\n",
    "test_low = test_data[test_data['item_price']<=9200].drop('ID', axis=1)\n",
    "test_low_pred = rf_model_cnt_low.predict(test_low)\n",
    "test_low['item_cnt_month'] = test_low_pred\n",
    "\n",
    "test_high = test_data[test_data['item_price']>9200].drop('ID', axis=1)\n",
    "test_high_pred = rf_model_cnt_high.predict(test_high)\n",
    "test_high['item_cnt_month'] = test_high_pred"
   ]
  },
  {
   "cell_type": "code",
   "execution_count": null,
   "metadata": {},
   "outputs": [],
   "source": []
  }
 ],
 "metadata": {
  "kernelspec": {
   "display_name": "Python 3",
   "language": "python",
   "name": "python3"
  },
  "language_info": {
   "codemirror_mode": {
    "name": "ipython",
    "version": 3
   },
   "file_extension": ".py",
   "mimetype": "text/x-python",
   "name": "python",
   "nbconvert_exporter": "python",
   "pygments_lexer": "ipython3",
   "version": "3.8.3"
  }
 },
 "nbformat": 4,
 "nbformat_minor": 4
}
